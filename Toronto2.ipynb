{
 "cells": [
  {
   "cell_type": "markdown",
   "metadata": {},
   "source": [
    "# Segmenting and Clustering Neighborhoods in Toronto - Second Part"
   ]
  },
  {
   "cell_type": "markdown",
   "metadata": {},
   "source": [
    "In this notebook we are going to get the latitude and longitude for each Neighborhood in Toronto using Geocoder Python"
   ]
  },
  {
   "cell_type": "markdown",
   "metadata": {},
   "source": [
    "  "
   ]
  },
  {
   "cell_type": "markdown",
   "metadata": {},
   "source": [
    "### Data load"
   ]
  },
  {
   "cell_type": "markdown",
   "metadata": {},
   "source": [
    "First we need to load the data we gathered in the previous step."
   ]
  },
  {
   "cell_type": "code",
   "execution_count": 1,
   "metadata": {},
   "outputs": [],
   "source": [
    "import csv\n",
    "import numpy as np # library to handle data in a vectorized manner\n",
    "\n",
    "import pandas as pd # library for data analsysis\n",
    "pd.set_option('display.max_columns', None)\n",
    "pd.set_option('display.max_rows', None)"
   ]
  },
  {
   "cell_type": "code",
   "execution_count": 3,
   "metadata": {},
   "outputs": [
    {
     "name": "stdout",
     "output_type": "stream",
     "text": [
      "Collecting geocoder\n",
      "\u001b[?25l  Downloading https://files.pythonhosted.org/packages/4f/6b/13166c909ad2f2d76b929a4227c952630ebaf0d729f6317eb09cbceccbab/geocoder-1.38.1-py2.py3-none-any.whl (98kB)\n",
      "\u001b[K     |████████████████████████████████| 102kB 18.5MB/s ta 0:00:01\n",
      "\u001b[?25hCollecting click (from geocoder)\n",
      "\u001b[?25l  Downloading https://files.pythonhosted.org/packages/dd/c0/4d8f43a9b16e289f36478422031b8a63b54b6ac3b1ba605d602f10dd54d6/click-7.1.1-py2.py3-none-any.whl (82kB)\n",
      "\u001b[K     |████████████████████████████████| 92kB 21.4MB/s eta 0:00:01\n",
      "\u001b[?25hRequirement already satisfied: six in /home/jupyterlab/conda/envs/python/lib/python3.6/site-packages (from geocoder) (1.14.0)\n",
      "Requirement already satisfied: requests in /home/jupyterlab/conda/envs/python/lib/python3.6/site-packages (from geocoder) (2.23.0)\n",
      "Collecting ratelim (from geocoder)\n",
      "  Downloading https://files.pythonhosted.org/packages/f2/98/7e6d147fd16a10a5f821db6e25f192265d6ecca3d82957a4fdd592cad49c/ratelim-0.1.6-py2.py3-none-any.whl\n",
      "Collecting future (from geocoder)\n",
      "\u001b[?25l  Downloading https://files.pythonhosted.org/packages/45/0b/38b06fd9b92dc2b68d58b75f900e97884c45bedd2ff83203d933cf5851c9/future-0.18.2.tar.gz (829kB)\n",
      "\u001b[K     |████████████████████████████████| 829kB 8.0MB/s eta 0:00:01:00:01\n",
      "\u001b[?25hRequirement already satisfied: chardet<4,>=3.0.2 in /home/jupyterlab/conda/envs/python/lib/python3.6/site-packages (from requests->geocoder) (3.0.4)\n",
      "Requirement already satisfied: urllib3!=1.25.0,!=1.25.1,<1.26,>=1.21.1 in /home/jupyterlab/conda/envs/python/lib/python3.6/site-packages (from requests->geocoder) (1.25.8)\n",
      "Requirement already satisfied: certifi>=2017.4.17 in /home/jupyterlab/conda/envs/python/lib/python3.6/site-packages (from requests->geocoder) (2020.4.5.1)\n",
      "Requirement already satisfied: idna<3,>=2.5 in /home/jupyterlab/conda/envs/python/lib/python3.6/site-packages (from requests->geocoder) (2.9)\n",
      "Requirement already satisfied: decorator in /home/jupyterlab/conda/envs/python/lib/python3.6/site-packages (from ratelim->geocoder) (4.4.2)\n",
      "Building wheels for collected packages: future\n",
      "  Building wheel for future (setup.py) ... \u001b[?25ldone\n",
      "\u001b[?25h  Stored in directory: /home/jupyterlab/.cache/pip/wheels/8b/99/a0/81daf51dcd359a9377b110a8a886b3895921802d2fc1b2397e\n",
      "Successfully built future\n",
      "Installing collected packages: click, ratelim, future, geocoder\n",
      "Successfully installed click-7.1.1 future-0.18.2 geocoder-1.38.1 ratelim-0.1.6\n",
      "Note: you may need to restart the kernel to use updated packages.\n"
     ]
    }
   ],
   "source": [
    "pip install geocoder"
   ]
  },
  {
   "cell_type": "code",
   "execution_count": 2,
   "metadata": {},
   "outputs": [
    {
     "name": "stdout",
     "output_type": "stream",
     "text": [
      "Collecting package metadata (current_repodata.json): done\n",
      "Solving environment: done\n",
      "\n",
      "## Package Plan ##\n",
      "\n",
      "  environment location: /home/jupyterlab/conda/envs/python\n",
      "\n",
      "  added / updated specs:\n",
      "    - geopy\n",
      "\n",
      "\n",
      "The following packages will be downloaded:\n",
      "\n",
      "    package                    |            build\n",
      "    ---------------------------|-----------------\n",
      "    geographiclib-1.50         |             py_0          34 KB  conda-forge\n",
      "    geopy-1.21.0               |             py_0          58 KB  conda-forge\n",
      "    openssl-1.1.1g             |       h516909a_0         2.1 MB  conda-forge\n",
      "    ------------------------------------------------------------\n",
      "                                           Total:         2.2 MB\n",
      "\n",
      "The following NEW packages will be INSTALLED:\n",
      "\n",
      "  geographiclib      conda-forge/noarch::geographiclib-1.50-py_0\n",
      "  geopy              conda-forge/noarch::geopy-1.21.0-py_0\n",
      "\n",
      "The following packages will be UPDATED:\n",
      "\n",
      "  openssl                                 1.1.1f-h516909a_0 --> 1.1.1g-h516909a_0\n",
      "\n",
      "\n",
      "\n",
      "Downloading and Extracting Packages\n",
      "openssl-1.1.1g       | 2.1 MB    | ##################################### | 100% \n",
      "geopy-1.21.0         | 58 KB     | ##################################### | 100% \n",
      "geographiclib-1.50   | 34 KB     | ##################################### | 100% \n",
      "Preparing transaction: done\n",
      "Verifying transaction: done\n",
      "Executing transaction: done\n",
      "Collecting package metadata (current_repodata.json): done\n",
      "Solving environment: failed with initial frozen solve. Retrying with flexible solve.\n",
      "Collecting package metadata (repodata.json): done\n",
      "Solving environment: done\n",
      "\n",
      "## Package Plan ##\n",
      "\n",
      "  environment location: /home/jupyterlab/conda/envs/python\n",
      "\n",
      "  added / updated specs:\n",
      "    - folium=0.5.0\n",
      "\n",
      "\n",
      "The following packages will be downloaded:\n",
      "\n",
      "    package                    |            build\n",
      "    ---------------------------|-----------------\n",
      "    altair-4.1.0               |             py_1         614 KB  conda-forge\n",
      "    branca-0.4.0               |             py_0          26 KB  conda-forge\n",
      "    brotlipy-0.7.0             |py36h8c4c3a4_1000         346 KB  conda-forge\n",
      "    chardet-3.0.4              |py36h9f0ad1d_1006         188 KB  conda-forge\n",
      "    cryptography-2.8           |   py36h45558ae_2         628 KB  conda-forge\n",
      "    folium-0.5.0               |             py_0          45 KB  conda-forge\n",
      "    pandas-1.0.3               |   py36h830a2c2_1        11.1 MB  conda-forge\n",
      "    pysocks-1.7.1              |   py36h9f0ad1d_1          27 KB  conda-forge\n",
      "    toolz-0.10.0               |             py_0          46 KB  conda-forge\n",
      "    urllib3-1.25.9             |             py_0          92 KB  conda-forge\n",
      "    vincent-0.4.4              |             py_1          28 KB  conda-forge\n",
      "    ------------------------------------------------------------\n",
      "                                           Total:        13.1 MB\n",
      "\n",
      "The following NEW packages will be INSTALLED:\n",
      "\n",
      "  altair             conda-forge/noarch::altair-4.1.0-py_1\n",
      "  attrs              conda-forge/noarch::attrs-19.3.0-py_0\n",
      "  branca             conda-forge/noarch::branca-0.4.0-py_0\n",
      "  brotlipy           conda-forge/linux-64::brotlipy-0.7.0-py36h8c4c3a4_1000\n",
      "  chardet            conda-forge/linux-64::chardet-3.0.4-py36h9f0ad1d_1006\n",
      "  cryptography       conda-forge/linux-64::cryptography-2.8-py36h45558ae_2\n",
      "  entrypoints        conda-forge/linux-64::entrypoints-0.3-py36h9f0ad1d_1001\n",
      "  folium             conda-forge/noarch::folium-0.5.0-py_0\n",
      "  idna               conda-forge/noarch::idna-2.9-py_1\n",
      "  importlib-metadata conda-forge/linux-64::importlib-metadata-1.6.0-py36h9f0ad1d_0\n",
      "  importlib_metadata conda-forge/noarch::importlib_metadata-1.6.0-0\n",
      "  jinja2             conda-forge/noarch::jinja2-2.11.2-pyh9f0ad1d_0\n",
      "  jsonschema         conda-forge/linux-64::jsonschema-3.2.0-py36h9f0ad1d_1\n",
      "  markupsafe         conda-forge/linux-64::markupsafe-1.1.1-py36h8c4c3a4_1\n",
      "  pandas             conda-forge/linux-64::pandas-1.0.3-py36h830a2c2_1\n",
      "  pyopenssl          conda-forge/noarch::pyopenssl-19.1.0-py_1\n",
      "  pyrsistent         conda-forge/linux-64::pyrsistent-0.16.0-py36h8c4c3a4_0\n",
      "  pysocks            conda-forge/linux-64::pysocks-1.7.1-py36h9f0ad1d_1\n",
      "  pytz               conda-forge/noarch::pytz-2019.3-py_0\n",
      "  requests           conda-forge/noarch::requests-2.23.0-pyh8c360ce_2\n",
      "  toolz              conda-forge/noarch::toolz-0.10.0-py_0\n",
      "  urllib3            conda-forge/noarch::urllib3-1.25.9-py_0\n",
      "  vincent            conda-forge/noarch::vincent-0.4.4-py_1\n",
      "  zipp               conda-forge/noarch::zipp-3.1.0-py_0\n",
      "\n",
      "\n",
      "\n",
      "Downloading and Extracting Packages\n",
      "pysocks-1.7.1        | 27 KB     | ##################################### | 100% \n",
      "cryptography-2.8     | 628 KB    | ##################################### | 100% \n",
      "toolz-0.10.0         | 46 KB     | ##################################### | 100% \n",
      "chardet-3.0.4        | 188 KB    | ##################################### | 100% \n",
      "folium-0.5.0         | 45 KB     | ##################################### | 100% \n",
      "urllib3-1.25.9       | 92 KB     | ##################################### | 100% \n",
      "brotlipy-0.7.0       | 346 KB    | ##################################### | 100% \n",
      "pandas-1.0.3         | 11.1 MB   | ##################################### | 100% \n",
      "altair-4.1.0         | 614 KB    | ##################################### | 100% \n",
      "branca-0.4.0         | 26 KB     | ##################################### | 100% \n",
      "vincent-0.4.4        | 28 KB     | ##################################### | 100% \n",
      "Preparing transaction: done\n",
      "Verifying transaction: done\n",
      "Executing transaction: done\n",
      "Libraries imported.\n"
     ]
    }
   ],
   "source": [
    "import json # library to handle JSON files\n",
    "\n",
    "!conda install -c conda-forge geopy --yes # uncomment this line if you haven't completed the Foursquare API lab\n",
    "from geopy.geocoders import Nominatim # convert an address into latitude and longitude values\n",
    "\n",
    "import requests # library to handle requests\n",
    "from pandas.io.json import json_normalize # tranform JSON file into a pandas dataframe\n",
    "\n",
    "# Matplotlib and associated plotting modules\n",
    "import matplotlib.cm as cm\n",
    "import matplotlib.colors as colors\n",
    "\n",
    "# import k-means from clustering stage\n",
    "from sklearn.cluster import KMeans\n",
    "\n",
    "!conda install -c conda-forge folium=0.5.0 --yes # uncomment this line if you haven't completed the Foursquare API lab\n",
    "import folium # map rendering library\n",
    "\n",
    "print('Libraries imported.')"
   ]
  },
  {
   "cell_type": "markdown",
   "metadata": {},
   "source": [
    " "
   ]
  },
  {
   "cell_type": "code",
   "execution_count": 4,
   "metadata": {},
   "outputs": [],
   "source": [
    "import csv\n",
    "import numpy as np # library to handle data in a vectorized manner\n",
    "\n",
    "import pandas as pd # library for data analsysis\n",
    "pd.set_option('display.max_columns', None)\n",
    "pd.set_option('display.max_rows', None)"
   ]
  },
  {
   "cell_type": "markdown",
   "metadata": {},
   "source": [
    "## Load data"
   ]
  },
  {
   "cell_type": "code",
   "execution_count": 10,
   "metadata": {},
   "outputs": [],
   "source": [
    "neighborhoods_data=pd.read_csv('data_Toronto.csv') "
   ]
  },
  {
   "cell_type": "code",
   "execution_count": 11,
   "metadata": {},
   "outputs": [
    {
     "data": {
      "text/html": [
       "<div>\n",
       "<style scoped>\n",
       "    .dataframe tbody tr th:only-of-type {\n",
       "        vertical-align: middle;\n",
       "    }\n",
       "\n",
       "    .dataframe tbody tr th {\n",
       "        vertical-align: top;\n",
       "    }\n",
       "\n",
       "    .dataframe thead th {\n",
       "        text-align: right;\n",
       "    }\n",
       "</style>\n",
       "<table border=\"1\" class=\"dataframe\">\n",
       "  <thead>\n",
       "    <tr style=\"text-align: right;\">\n",
       "      <th></th>\n",
       "      <th>Unnamed: 0</th>\n",
       "      <th>PostalCode</th>\n",
       "      <th>Borough</th>\n",
       "      <th>Neighbourhood</th>\n",
       "    </tr>\n",
       "  </thead>\n",
       "  <tbody>\n",
       "    <tr>\n",
       "      <th>0</th>\n",
       "      <td>0</td>\n",
       "      <td>M1B</td>\n",
       "      <td>Scarborough</td>\n",
       "      <td>Malvern , Rouge</td>\n",
       "    </tr>\n",
       "    <tr>\n",
       "      <th>1</th>\n",
       "      <td>1</td>\n",
       "      <td>M1C</td>\n",
       "      <td>Scarborough</td>\n",
       "      <td>Rouge Hill , Port Union , Highland Creek</td>\n",
       "    </tr>\n",
       "    <tr>\n",
       "      <th>2</th>\n",
       "      <td>2</td>\n",
       "      <td>M1E</td>\n",
       "      <td>Scarborough</td>\n",
       "      <td>Guildwood , Morningside , West Hill</td>\n",
       "    </tr>\n",
       "    <tr>\n",
       "      <th>3</th>\n",
       "      <td>3</td>\n",
       "      <td>M1G</td>\n",
       "      <td>Scarborough</td>\n",
       "      <td>Woburn</td>\n",
       "    </tr>\n",
       "    <tr>\n",
       "      <th>4</th>\n",
       "      <td>4</td>\n",
       "      <td>M1H</td>\n",
       "      <td>Scarborough</td>\n",
       "      <td>Cedarbrae</td>\n",
       "    </tr>\n",
       "  </tbody>\n",
       "</table>\n",
       "</div>"
      ],
      "text/plain": [
       "   Unnamed: 0 PostalCode      Borough  \\\n",
       "0           0        M1B  Scarborough   \n",
       "1           1        M1C  Scarborough   \n",
       "2           2        M1E  Scarborough   \n",
       "3           3        M1G  Scarborough   \n",
       "4           4        M1H  Scarborough   \n",
       "\n",
       "                              Neighbourhood  \n",
       "0                           Malvern , Rouge  \n",
       "1  Rouge Hill , Port Union , Highland Creek  \n",
       "2       Guildwood , Morningside , West Hill  \n",
       "3                                    Woburn  \n",
       "4                                 Cedarbrae  "
      ]
     },
     "execution_count": 11,
     "metadata": {},
     "output_type": "execute_result"
    }
   ],
   "source": [
    "neighborhoods_data.head()"
   ]
  },
  {
   "cell_type": "markdown",
   "metadata": {},
   "source": [
    "## Tranform the data into a pandas dataframe"
   ]
  },
  {
   "cell_type": "code",
   "execution_count": 12,
   "metadata": {},
   "outputs": [],
   "source": [
    "# define the dataframe columns\n",
    "column_names = ['Borough', 'Neighborhood', 'Latitude', 'Longitude'] \n",
    "\n",
    "# instantiate the dataframe\n",
    "neighborhoods = pd.DataFrame(columns=column_names)"
   ]
  },
  {
   "cell_type": "code",
   "execution_count": 13,
   "metadata": {},
   "outputs": [
    {
     "data": {
      "text/html": [
       "<div>\n",
       "<style scoped>\n",
       "    .dataframe tbody tr th:only-of-type {\n",
       "        vertical-align: middle;\n",
       "    }\n",
       "\n",
       "    .dataframe tbody tr th {\n",
       "        vertical-align: top;\n",
       "    }\n",
       "\n",
       "    .dataframe thead th {\n",
       "        text-align: right;\n",
       "    }\n",
       "</style>\n",
       "<table border=\"1\" class=\"dataframe\">\n",
       "  <thead>\n",
       "    <tr style=\"text-align: right;\">\n",
       "      <th></th>\n",
       "      <th>Borough</th>\n",
       "      <th>Neighborhood</th>\n",
       "      <th>Latitude</th>\n",
       "      <th>Longitude</th>\n",
       "    </tr>\n",
       "  </thead>\n",
       "  <tbody>\n",
       "  </tbody>\n",
       "</table>\n",
       "</div>"
      ],
      "text/plain": [
       "Empty DataFrame\n",
       "Columns: [Borough, Neighborhood, Latitude, Longitude]\n",
       "Index: []"
      ]
     },
     "execution_count": 13,
     "metadata": {},
     "output_type": "execute_result"
    }
   ],
   "source": [
    "neighborhoods"
   ]
  },
  {
   "cell_type": "code",
   "execution_count": 22,
   "metadata": {},
   "outputs": [
    {
     "data": {
      "text/html": [
       "<div>\n",
       "<style scoped>\n",
       "    .dataframe tbody tr th:only-of-type {\n",
       "        vertical-align: middle;\n",
       "    }\n",
       "\n",
       "    .dataframe tbody tr th {\n",
       "        vertical-align: top;\n",
       "    }\n",
       "\n",
       "    .dataframe thead th {\n",
       "        text-align: right;\n",
       "    }\n",
       "</style>\n",
       "<table border=\"1\" class=\"dataframe\">\n",
       "  <thead>\n",
       "    <tr style=\"text-align: right;\">\n",
       "      <th></th>\n",
       "      <th>PostalCode</th>\n",
       "      <th>Borough</th>\n",
       "      <th>Neighbourhood</th>\n",
       "    </tr>\n",
       "  </thead>\n",
       "  <tbody>\n",
       "    <tr>\n",
       "      <th>0</th>\n",
       "      <td>M1B</td>\n",
       "      <td>Scarborough</td>\n",
       "      <td>Malvern , Rouge</td>\n",
       "    </tr>\n",
       "    <tr>\n",
       "      <th>1</th>\n",
       "      <td>M1C</td>\n",
       "      <td>Scarborough</td>\n",
       "      <td>Rouge Hill , Port Union , Highland Creek</td>\n",
       "    </tr>\n",
       "    <tr>\n",
       "      <th>2</th>\n",
       "      <td>M1E</td>\n",
       "      <td>Scarborough</td>\n",
       "      <td>Guildwood , Morningside , West Hill</td>\n",
       "    </tr>\n",
       "    <tr>\n",
       "      <th>3</th>\n",
       "      <td>M1G</td>\n",
       "      <td>Scarborough</td>\n",
       "      <td>Woburn</td>\n",
       "    </tr>\n",
       "    <tr>\n",
       "      <th>4</th>\n",
       "      <td>M1H</td>\n",
       "      <td>Scarborough</td>\n",
       "      <td>Cedarbrae</td>\n",
       "    </tr>\n",
       "  </tbody>\n",
       "</table>\n",
       "</div>"
      ],
      "text/plain": [
       "  PostalCode      Borough                             Neighbourhood\n",
       "0        M1B  Scarborough                           Malvern , Rouge\n",
       "1        M1C  Scarborough  Rouge Hill , Port Union , Highland Creek\n",
       "2        M1E  Scarborough       Guildwood , Morningside , West Hill\n",
       "3        M1G  Scarborough                                    Woburn\n",
       "4        M1H  Scarborough                                 Cedarbrae"
      ]
     },
     "execution_count": 22,
     "metadata": {},
     "output_type": "execute_result"
    }
   ],
   "source": [
    "neighborhoods = neighborhoods_data.drop(columns=['Unnamed: 0'])\n",
    "neighborhoods.head()"
   ]
  },
  {
   "cell_type": "markdown",
   "metadata": {},
   "source": [
    "Then let's loop through the data and fill the dataframe one row at a time."
   ]
  },
  {
   "cell_type": "code",
   "execution_count": 26,
   "metadata": {},
   "outputs": [],
   "source": [
    "neighborhoods[\"Latitude\"] = \"\"\n",
    "neighborhoods[\"Longitude\"] = \"\""
   ]
  },
  {
   "cell_type": "code",
   "execution_count": 27,
   "metadata": {},
   "outputs": [
    {
     "data": {
      "text/html": [
       "<div>\n",
       "<style scoped>\n",
       "    .dataframe tbody tr th:only-of-type {\n",
       "        vertical-align: middle;\n",
       "    }\n",
       "\n",
       "    .dataframe tbody tr th {\n",
       "        vertical-align: top;\n",
       "    }\n",
       "\n",
       "    .dataframe thead th {\n",
       "        text-align: right;\n",
       "    }\n",
       "</style>\n",
       "<table border=\"1\" class=\"dataframe\">\n",
       "  <thead>\n",
       "    <tr style=\"text-align: right;\">\n",
       "      <th></th>\n",
       "      <th>PostalCode</th>\n",
       "      <th>Borough</th>\n",
       "      <th>Neighbourhood</th>\n",
       "      <th>Latitude</th>\n",
       "      <th>Longitude</th>\n",
       "    </tr>\n",
       "  </thead>\n",
       "  <tbody>\n",
       "    <tr>\n",
       "      <th>0</th>\n",
       "      <td>M1B</td>\n",
       "      <td>Scarborough</td>\n",
       "      <td>Malvern , Rouge</td>\n",
       "      <td></td>\n",
       "      <td></td>\n",
       "    </tr>\n",
       "    <tr>\n",
       "      <th>1</th>\n",
       "      <td>M1C</td>\n",
       "      <td>Scarborough</td>\n",
       "      <td>Rouge Hill , Port Union , Highland Creek</td>\n",
       "      <td></td>\n",
       "      <td></td>\n",
       "    </tr>\n",
       "    <tr>\n",
       "      <th>2</th>\n",
       "      <td>M1E</td>\n",
       "      <td>Scarborough</td>\n",
       "      <td>Guildwood , Morningside , West Hill</td>\n",
       "      <td></td>\n",
       "      <td></td>\n",
       "    </tr>\n",
       "    <tr>\n",
       "      <th>3</th>\n",
       "      <td>M1G</td>\n",
       "      <td>Scarborough</td>\n",
       "      <td>Woburn</td>\n",
       "      <td></td>\n",
       "      <td></td>\n",
       "    </tr>\n",
       "    <tr>\n",
       "      <th>4</th>\n",
       "      <td>M1H</td>\n",
       "      <td>Scarborough</td>\n",
       "      <td>Cedarbrae</td>\n",
       "      <td></td>\n",
       "      <td></td>\n",
       "    </tr>\n",
       "  </tbody>\n",
       "</table>\n",
       "</div>"
      ],
      "text/plain": [
       "  PostalCode      Borough                             Neighbourhood Latitude  \\\n",
       "0        M1B  Scarborough                           Malvern , Rouge            \n",
       "1        M1C  Scarborough  Rouge Hill , Port Union , Highland Creek            \n",
       "2        M1E  Scarborough       Guildwood , Morningside , West Hill            \n",
       "3        M1G  Scarborough                                    Woburn            \n",
       "4        M1H  Scarborough                                 Cedarbrae            \n",
       "\n",
       "  Longitude  \n",
       "0            \n",
       "1            \n",
       "2            \n",
       "3            \n",
       "4            "
      ]
     },
     "execution_count": 27,
     "metadata": {},
     "output_type": "execute_result"
    }
   ],
   "source": [
    "neighborhoods.head()"
   ]
  },
  {
   "cell_type": "markdown",
   "metadata": {},
   "source": [
    "Let's find out how many boroughs and neighborhoods are there in Toronto:"
   ]
  },
  {
   "cell_type": "code",
   "execution_count": 28,
   "metadata": {},
   "outputs": [
    {
     "name": "stdout",
     "output_type": "stream",
     "text": [
      "The dataframe has 10 boroughs and 103 neighborhoods.\n"
     ]
    }
   ],
   "source": [
    "print('The dataframe has {} boroughs and {} neighborhoods.'.format(\n",
    "        len(neighborhoods['Borough'].unique()),\n",
    "        neighborhoods.shape[0]\n",
    "    )\n",
    ")"
   ]
  },
  {
   "cell_type": "markdown",
   "metadata": {},
   "source": [
    "## Use geopy library to get the latitude and longitude values of Toronto"
   ]
  },
  {
   "cell_type": "markdown",
   "metadata": {},
   "source": [
    "In order to define an instance of the geocoder, we need to define a user_agent. We will name our agent toronto_explorer, as shown below."
   ]
  },
  {
   "cell_type": "code",
   "execution_count": null,
   "metadata": {},
   "outputs": [],
   "source": [
    "!pip install geocoder"
   ]
  },
  {
   "cell_type": "code",
   "execution_count": 29,
   "metadata": {},
   "outputs": [
    {
     "name": "stdout",
     "output_type": "stream",
     "text": [
      "The geograpical coordinate of Toronto are 43.6534817, -79.3839347.\n"
     ]
    }
   ],
   "source": [
    "address = 'Toronto'\n",
    "\n",
    "geolocator = Nominatim(user_agent=\"toronto_explorer\")\n",
    "location = geolocator.geocode(address)\n",
    "latitude = location.latitude\n",
    "longitude = location.longitude\n",
    "print('The geograpical coordinate of Toronto are {}, {}.'.format(latitude, longitude))"
   ]
  },
  {
   "cell_type": "code",
   "execution_count": 37,
   "metadata": {},
   "outputs": [],
   "source": [
    "import geocoder"
   ]
  },
  {
   "cell_type": "code",
   "execution_count": 38,
   "metadata": {},
   "outputs": [
    {
     "data": {
      "text/plain": [
       "[43.80862623100006, -79.18991284599997]"
      ]
     },
     "execution_count": 38,
     "metadata": {},
     "output_type": "execute_result"
    }
   ],
   "source": [
    "def get_latlng(postal_code):\n",
    "    # initialize your variable to None\n",
    "    lat_lng_coords = None\n",
    "    # loop until you get the coordinates\n",
    "    while(lat_lng_coords is None):\n",
    "        g = geocoder.arcgis('{}, Toronto, Ontario'.format(postal_code))\n",
    "        lat_lng_coords = g.latlng\n",
    "    return lat_lng_coords\n",
    "    \n",
    "get_latlng('M1B')"
   ]
  },
  {
   "cell_type": "code",
   "execution_count": 40,
   "metadata": {},
   "outputs": [],
   "source": [
    "postal_codes = neighborhoods['PostalCode']    \n",
    "coords = [ get_latlng(postal_code) for postal_code in postal_codes.tolist() ]"
   ]
  },
  {
   "cell_type": "code",
   "execution_count": 41,
   "metadata": {},
   "outputs": [
    {
     "data": {
      "text/html": [
       "<div>\n",
       "<style scoped>\n",
       "    .dataframe tbody tr th:only-of-type {\n",
       "        vertical-align: middle;\n",
       "    }\n",
       "\n",
       "    .dataframe tbody tr th {\n",
       "        vertical-align: top;\n",
       "    }\n",
       "\n",
       "    .dataframe thead th {\n",
       "        text-align: right;\n",
       "    }\n",
       "</style>\n",
       "<table border=\"1\" class=\"dataframe\">\n",
       "  <thead>\n",
       "    <tr style=\"text-align: right;\">\n",
       "      <th></th>\n",
       "      <th>PostalCode</th>\n",
       "      <th>Borough</th>\n",
       "      <th>Neighbourhood</th>\n",
       "      <th>Latitude</th>\n",
       "      <th>Longitude</th>\n",
       "    </tr>\n",
       "  </thead>\n",
       "  <tbody>\n",
       "    <tr>\n",
       "      <th>0</th>\n",
       "      <td>M1B</td>\n",
       "      <td>Scarborough</td>\n",
       "      <td>Malvern , Rouge</td>\n",
       "      <td>43.808626</td>\n",
       "      <td>-79.189913</td>\n",
       "    </tr>\n",
       "    <tr>\n",
       "      <th>1</th>\n",
       "      <td>M1C</td>\n",
       "      <td>Scarborough</td>\n",
       "      <td>Rouge Hill , Port Union , Highland Creek</td>\n",
       "      <td>43.785779</td>\n",
       "      <td>-79.157368</td>\n",
       "    </tr>\n",
       "    <tr>\n",
       "      <th>2</th>\n",
       "      <td>M1E</td>\n",
       "      <td>Scarborough</td>\n",
       "      <td>Guildwood , Morningside , West Hill</td>\n",
       "      <td>43.765806</td>\n",
       "      <td>-79.185284</td>\n",
       "    </tr>\n",
       "    <tr>\n",
       "      <th>3</th>\n",
       "      <td>M1G</td>\n",
       "      <td>Scarborough</td>\n",
       "      <td>Woburn</td>\n",
       "      <td>43.771545</td>\n",
       "      <td>-79.218135</td>\n",
       "    </tr>\n",
       "    <tr>\n",
       "      <th>4</th>\n",
       "      <td>M1H</td>\n",
       "      <td>Scarborough</td>\n",
       "      <td>Cedarbrae</td>\n",
       "      <td>43.768791</td>\n",
       "      <td>-79.238813</td>\n",
       "    </tr>\n",
       "  </tbody>\n",
       "</table>\n",
       "</div>"
      ],
      "text/plain": [
       "  PostalCode      Borough                             Neighbourhood  \\\n",
       "0        M1B  Scarborough                           Malvern , Rouge   \n",
       "1        M1C  Scarborough  Rouge Hill , Port Union , Highland Creek   \n",
       "2        M1E  Scarborough       Guildwood , Morningside , West Hill   \n",
       "3        M1G  Scarborough                                    Woburn   \n",
       "4        M1H  Scarborough                                 Cedarbrae   \n",
       "\n",
       "    Latitude  Longitude  \n",
       "0  43.808626 -79.189913  \n",
       "1  43.785779 -79.157368  \n",
       "2  43.765806 -79.185284  \n",
       "3  43.771545 -79.218135  \n",
       "4  43.768791 -79.238813  "
      ]
     },
     "execution_count": 41,
     "metadata": {},
     "output_type": "execute_result"
    }
   ],
   "source": [
    "neighborhoods_coord = pd.DataFrame(coords, columns=['Latitude', 'Longitude'])\n",
    "neighborhoods['Latitude'] = neighborhoods_coord['Latitude']\n",
    "neighborhoods['Longitude'] = neighborhoods_coord['Longitude']\n",
    "neighborhoods.head()"
   ]
  },
  {
   "cell_type": "markdown",
   "metadata": {},
   "source": [
    "Create a map of Toronto with neighborhoods superimposed on top."
   ]
  },
  {
   "cell_type": "code",
   "execution_count": 42,
   "metadata": {},
   "outputs": [
    {
     "data": {
      "text/html": [
       "<div style=\"width:100%;\"><div style=\"position:relative;width:100%;height:0;padding-bottom:60%;\"><iframe src=\"about:blank\" style=\"position:absolute;width:100%;height:100%;left:0;top:0;border:none !important;\" data-html=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 onload=\"this.contentDocument.open();this.contentDocument.write(atob(this.getAttribute('data-html')));this.contentDocument.close();\" allowfullscreen webkitallowfullscreen mozallowfullscreen></iframe></div></div>"
      ],
      "text/plain": [
       "<folium.folium.Map at 0x7fbf0b488198>"
      ]
     },
     "execution_count": 42,
     "metadata": {},
     "output_type": "execute_result"
    }
   ],
   "source": [
    "# create map of Toronto using latitude and longitude values\n",
    "map_toronto = folium.Map(location=[latitude, longitude], zoom_start=10)\n",
    "\n",
    "# add markers to map\n",
    "for lat, lng, borough, neighborhood in zip(neighborhoods['Latitude'], neighborhoods['Longitude'], neighborhoods['Borough'], neighborhoods['Neighbourhood']):\n",
    "    label = '{}, {}'.format(neighborhood, borough)\n",
    "    label = folium.Popup(label, parse_html=True)\n",
    "    folium.CircleMarker(\n",
    "        [lat, lng],\n",
    "        radius=5,\n",
    "        popup=label,\n",
    "        color='blue',\n",
    "        fill=True,\n",
    "        fill_color='#3186cc',\n",
    "        fill_opacity=0.7,\n",
    "        #parse_html=False).\n",
    "        #.add_to(map_toronto)  \n",
    "        parse_html=False).add_to(map_toronto)  \n",
    "    \n",
    "map_toronto"
   ]
  },
  {
   "cell_type": "code",
   "execution_count": 43,
   "metadata": {},
   "outputs": [],
   "source": [
    "neighborhoods.to_csv('coord_Toronto.csv')"
   ]
  }
 ],
 "metadata": {
  "kernelspec": {
   "display_name": "Python",
   "language": "python",
   "name": "conda-env-python-py"
  },
  "language_info": {
   "codemirror_mode": {
    "name": "ipython",
    "version": 3
   },
   "file_extension": ".py",
   "mimetype": "text/x-python",
   "name": "python",
   "nbconvert_exporter": "python",
   "pygments_lexer": "ipython3",
   "version": "3.6.10"
  }
 },
 "nbformat": 4,
 "nbformat_minor": 4
}
